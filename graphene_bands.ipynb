{
 "cells": [
  {
   "cell_type": "code",
   "execution_count": 1,
   "metadata": {
    "collapsed": true
   },
   "outputs": [],
   "source": [
    "import numpy as np\n",
    "from scipy import special\n",
    "import matplotlib.pyplot as plt\n",
    "from scipy import integrate\n",
    "from scipy import linalg as LA\n",
    "import matplotlib\n",
    "import math"
   ]
  },
  {
   "cell_type": "code",
   "execution_count": 4,
   "metadata": {
    "collapsed": false
   },
   "outputs": [],
   "source": [
    "Przyliżenie ciasnego wiązania. Układ periodyczny. \n",
    "Metoda LCAO z uwzględnieniem tego, że to układ periodyczny, więc funkcja falowa spełnia twierdzenie Blocha\n",
    "Funkcja bazowa składa się z 2 części - Up zlokalizowanej na poszczególnych atomach R-położenie i czynnik Blochowski\n",
    "Algebraiczne zagadnienie własne - uogólniony problem własny. Macierze hamiltonianu i overlapów (S)\n",
    "Nadrzędne przybliżenie ciasno związanych elektronów i rozwijamy w szereg te funkcje (LCAO)\n",
    "Parametryzujemy macierze overlapów i zostają tylko czynniki blochowskie\n",
    "blochowskie zbudowane są z wekt. k i najbliższych sąsiadów (R1, R2, R3)\n",
    "Funkcje jakie bierzemy do bazy atomowej:\n",
    "w płaszczyźnie dwa orbitale sp2, a z boku planarny, bo stany pz prostopadłe do płaszczyzny.\n",
    "grafen ma stożek diraca w punktcie k i to są pasma pochodzące od stanów pz, więc żeby odtworzyć fragment z przecięciem\n",
    "wystarczy wziąć stany pz\n",
    "ilość fcji bazy * ilość atomów w komórce czyli macierz 2x2 (gdyby wszystkie orbitale to mamy 8x8 z 2 podmacierzy)\n",
    "\n",
    "Ri, R2, R3 najblizsi ssiedzi w położeniu atomów \n",
    "napisać procedurę generującą ścieżkę punktów k i dla każdego zbudować macierz hamiltonianu i wyrzucić 2 wart. wł.\n",
    "1. ścieżka gamma K M\n",
    "2. macierz hamiltonianu (a wcześniej iloczyn skalarny r1r2r3)\n",
    "3. gamma, K, M współrzędne 0, 1/2, 1/3 vectors sieci odwrotnej (z b1, b2)\n",
    "4. żeby jednostki wyszły e^ikR *2pi\n",
    "przechodzimy z punktów M, gamma, K"
   ]
  },
  {
   "cell_type": "code",
   "execution_count": 2,
   "metadata": {
    "collapsed": false
   },
   "outputs": [],
   "source": [
    "gamma = -2.78\n",
    "s0 = 0.06\n",
    "e2p = 0\n",
    "N = 2\n",
    "H = np.zeros([N, N],dtype=np.complex_)\n",
    "S = np.zeros([N, N],dtype=np.complex_)\n",
    "E, K = [], []\n",
    "\n",
    "kx = 0\n",
    "ky = 0\n",
    "\n",
    "RA =[0.666667000, 1.333333000]\n",
    "R1 =[0.333333000, 1.666667000]\n",
    "R2 =[1.333333000, 1.666667000]\n",
    "R3 =[0.333333000, 0.666667000]\n",
    "Zk = complex(e2p,0);\n",
    "Jk = complex(1,1)\n",
    "Cc = complex(0,1)\n",
    "\n",
    "for k in range(60):\n",
    "    if k <= 20:\n",
    "        kx = 0\n",
    "        ky = 0.5-0.05*k*0.5\n",
    "        \n",
    "    elif k > 20 and k <= 40:\n",
    "        kx = 0.05*(k-20)*(1/3)\n",
    "        ky = 0.05*(k-20)*(1/3)\n",
    "          \n",
    "    else:\n",
    "        kx = (1/3)-0.05*(k-40)*(1/3)\n",
    "        ky = 0.05*(k-40)*(0.5-(1/3))+(1/3)\n",
    "        \n",
    "    \n",
    "    Rw1=2*np.pi*(kx*(RA[0]-R1[0])+ky*(RA[1]-R1[1]))\n",
    "    Rw2=2*np.pi*(kx*(RA[0]-R2[0])+ky*(RA[1]-R2[1]))\n",
    "    Rw3=2*np.pi*(kx*(RA[0]-R3[0])+ky*(RA[1]-R3[1]))\n",
    "    \n",
    "    w1=Cc*Rw1\n",
    "    w2=Cc*Rw2\n",
    "    w3=Cc*Rw3\n",
    "    \n",
    "    v1=np.exp(w1)+np.exp(w2)+np.exp(w3)\n",
    "    \n",
    "    H[0,0]=Zk\n",
    "    H[0,1]=v1*gamma\n",
    "    H[1,0]=H[0,1].conjugate()\n",
    "    H[1,1]=Zk\n",
    "\n",
    "    S[0,0]=Jk\n",
    "    S[0,1]=v1*s0\n",
    "    S[1,0]=S[0,1].conjugate()\n",
    "    S[1,1]=Jk\n",
    "    \n",
    "    energies, vectors = LA.eigh(H, S)\n",
    "    E.append(energies)\n",
    "    K.append(k)\n",
    "\n",
    "plt.plot(K, E, linewidth = 5)\n",
    "plt.xlabel(\"k\")\n",
    "plt.ylabel(\"E\")\n",
    "plt.show()"
   ]
  },
  {
   "cell_type": "code",
   "execution_count": 3,
   "metadata": {
    "collapsed": false
   },
   "outputs": [
    {
     "data": {
      "text/plain": [
       "[array([-2.62264151,  2.95744681]),\n",
       " array([-2.68274937,  3.03410522]),\n",
       " array([-2.85279586,  3.25343069]),\n",
       " array([-3.10787893,  3.58940909]),\n",
       " array([-3.41969599,  4.01190433]),\n",
       " array([-3.76388604,  4.49403078]),\n",
       " array([-4.12201516,  5.01418213]),\n",
       " array([-4.48086116,  5.55537287]),\n",
       " array([-4.83107585,  6.10397151]),\n",
       " array([-5.166021  ,  6.64862188]),\n",
       " array([-5.48092564,  7.17949998]),\n",
       " array([-5.77231294,  7.68785389]),\n",
       " array([-6.0376169 ,  8.16574533]),\n",
       " array([-6.27492476,  8.60592655]),\n",
       " array([-6.48280182,  9.00180565]),\n",
       " array([-6.6601703 ,  9.34746791]),\n",
       " array([-6.80622438,  9.63773037]),\n",
       " array([-6.92037022,  9.86821276]),\n",
       " array([ -7.00218348,  10.03541212]),\n",
       " array([ -7.05138002,  10.13677101]),\n",
       " array([ -7.06779661,  10.17073171]),\n",
       " array([ -7.04590977,  10.12547016]),\n",
       " array([-6.98034333,  9.99061268]),\n",
       " array([-6.87138251,  9.76890164]),\n",
       " array([-6.7195124 ,  9.46478043]),\n",
       " array([-6.52543246,  9.08421316]),\n",
       " array([-6.29007645,  8.63445178]),\n",
       " array([-6.01463739,  8.12376759]),\n",
       " array([-5.70059707,  7.56116489]),\n",
       " array([-5.34975929,  6.95609444]),\n",
       " array([-4.96428571,  6.31818182]),\n",
       " array([-4.546733  ,  5.65698299]),\n",
       " array([-4.10008944,  4.9817754 ]),\n",
       " array([-3.62780881,  4.30138947]),\n",
       " array([-3.13383888,  3.62408151]),\n",
       " array([-2.62264151,  2.95744681]),\n",
       " array([-2.09920084,  2.30836906]),\n",
       " array([-1.56901605,  1.6830012 ]),\n",
       " array([-1.03807495,  1.08677211]),\n",
       " array([-0.51280515,  0.52441329]),\n",
       " array([ -1.27256357e-15,   1.27256357e-15]),\n",
       " array([-0.24687063,  0.24952969]),\n",
       " array([-0.48299799,  0.49328235]),\n",
       " array([-0.70803379,  0.73035536]),\n",
       " array([-0.92166045,  0.95984691]),\n",
       " array([-1.12358935,  1.18086143]),\n",
       " array([-1.31355902,  1.39251517]),\n",
       " array([-1.4913335,  1.5939421]),\n",
       " array([-1.65670065,  1.78429997]),\n",
       " array([-1.80947062,  1.96277651]),\n",
       " array([-1.94947439,  2.12859566]),\n",
       " array([-2.07656234,  2.28102369]),\n",
       " array([-2.19060307,  2.41937535]),\n",
       " array([-2.29148215,  2.54301959]),\n",
       " array([-2.37910114,  2.65138518]),\n",
       " array([-2.45337661,  2.74396573]),\n",
       " array([-2.51423936,  2.82032442]),\n",
       " array([-2.56163371,  2.880098  ]),\n",
       " array([-2.59551694,  2.92300025]),\n",
       " array([-2.61585887,  2.94882475])]"
      ]
     },
     "execution_count": 3,
     "metadata": {},
     "output_type": "execute_result"
    }
   ],
   "source": [
    "E"
   ]
  },
  {
   "cell_type": "code",
   "execution_count": 36,
   "metadata": {
    "collapsed": false
   },
   "outputs": [
    {
     "name": "stdout",
     "output_type": "stream",
     "text": [
      "60\n"
     ]
    },
    {
     "data": {
      "text/plain": [
       "60"
      ]
     },
     "execution_count": 36,
     "metadata": {},
     "output_type": "execute_result"
    }
   ],
   "source": [
    "print(len(K))\n",
    "len(E)"
   ]
  },
  {
   "cell_type": "code",
   "execution_count": null,
   "metadata": {
    "collapsed": true
   },
   "outputs": [],
   "source": []
  }
 ],
 "metadata": {
  "kernelspec": {
   "display_name": "Python 3",
   "language": "python",
   "name": "python3"
  },
  "language_info": {
   "codemirror_mode": {
    "name": "ipython",
    "version": 3
   },
   "file_extension": ".py",
   "mimetype": "text/x-python",
   "name": "python",
   "nbconvert_exporter": "python",
   "pygments_lexer": "ipython3",
   "version": "3.5.1"
  }
 },
 "nbformat": 4,
 "nbformat_minor": 0
}
